{
 "cells": [
  {
   "cell_type": "markdown",
   "metadata": {},
   "source": [
    "# Reto 01: Biblioteca de utilidades\n",
    "\n",
    "Deberás de crear una biblioteca de utilidades aplicando los conceptos vistos hasta este momento."
   ]
  },
  {
   "cell_type": "code",
   "execution_count": null,
   "metadata": {},
   "outputs": [],
   "source": [
    "import numpy as np"
   ]
  },
  {
   "cell_type": "markdown",
   "metadata": {},
   "source": [
    "### Paso 1: Distancia euclidiana\n",
    "Lo primero será crear la distancia euclidiana, que usaremos a montones.\n",
    "La distancia euclidiana también es conocida como norma. Puedes usar tu fórmula original, pero esta es un poco más rápida."
   ]
  },
  {
   "cell_type": "code",
   "execution_count": null,
   "metadata": {},
   "outputs": [],
   "source": [
    "## Distancia eucilidiana:\n",
    "def distEuclidiana(muestra, dataset):\n",
    "    # Aquí va tu código."
   ]
  },
  {
   "cell_type": "code",
   "execution_count": null,
   "metadata": {},
   "outputs": [],
   "source": [
    "#Prueba de distancia euclidiana:\n",
    "muestra = np.array([1,2,3,4])\n",
    "dataset = np.array([[1,2,3,4],\n",
    "                    [2,3,4,5],\n",
    "                    [3,4,5,6]])\n",
    "distancias = distEuclidiana(muestra, dataset)\n",
    "print(distancias)"
   ]
  },
  {
   "cell_type": "markdown",
   "metadata": {},
   "source": [
    "### Paso 2: Obtener el centroide mas cercano\n",
    "En esa función, vamos a necesitar obtener el centroide más cerano de entre una lista. Esto se logra con \"argmin\""
   ]
  },
  {
   "cell_type": "code",
   "execution_count": null,
   "metadata": {},
   "outputs": [],
   "source": [
    "def centroideCercano(muestra, listaCentroides):\n",
    "    # Aquí va tu código."
   ]
  },
  {
   "cell_type": "code",
   "execution_count": null,
   "metadata": {},
   "outputs": [],
   "source": [
    "#Prueba de centroide mas cercano:\n",
    "muestra = np.array([1,2,3,4])\n",
    "centroides = np.array([[1,2,3,4],\n",
    "                    [2,3,4,5],\n",
    "                    [3,4,5,6]])\n",
    "resultado = centroideCercano(muestra, centroides)\n",
    "print(\"El centroide mas cercano es: \"+str(resultado))"
   ]
  },
  {
   "cell_type": "markdown",
   "metadata": {},
   "source": [
    "### Paso 3: Repetir eso para todas las muestras\n",
    "En esta función vamos a utilizar la funcion \"centroideCercano\" para clasificar todas las muestras"
   ]
  },
  {
   "cell_type": "code",
   "execution_count": null,
   "metadata": {},
   "outputs": [],
   "source": [
    "def clasificarPorCentroides(muestras, centroides):\n",
    "    # Aquí va tu código.\n",
    "    return resultado"
   ]
  },
  {
   "cell_type": "code",
   "execution_count": null,
   "metadata": {},
   "outputs": [],
   "source": [
    "#Prueba de todos los centroides vs todas las muestras.\n",
    "muestras = np.array([[1,2,3,4],\n",
    "                    [2,3,4,5],\n",
    "                    [3,4,5,6]])\n",
    "\n",
    "centroides = np.array([[1,2,3,4],\n",
    "                    [2,3,4,5],\n",
    "                    [3,4,5,6]])\n",
    "\n",
    "resultados = clasificarPorCentroides(muestras,centroides)\n",
    "print(resultados)"
   ]
  },
  {
   "cell_type": "markdown",
   "metadata": {
    "collapsed": true
   },
   "source": [
    "Una vez que estés segura(o) de haber implementado correctamente tus funciones, copialas en un archivo `.py`."
   ]
  },
  {
   "cell_type": "code",
   "execution_count": null,
   "metadata": {},
   "outputs": [],
   "source": []
  }
 ],
 "metadata": {
  "kernelspec": {
   "display_name": "Python 3",
   "language": "python",
   "name": "python3"
  },
  "language_info": {
   "codemirror_mode": {
    "name": "ipython",
    "version": 3
   },
   "file_extension": ".py",
   "mimetype": "text/x-python",
   "name": "python",
   "nbconvert_exporter": "python",
   "pygments_lexer": "ipython3",
   "version": "3.9.2"
  }
 },
 "nbformat": 4,
 "nbformat_minor": 2
}
