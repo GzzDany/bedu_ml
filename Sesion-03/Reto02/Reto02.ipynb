{
 "cells": [
  {
   "cell_type": "markdown",
   "metadata": {},
   "source": [
    "# Reto 02\n",
    "\n",
    "Este reto consiste en agrandar la librería de MLUtilites.py para crear poco a poco un sistema de recomendaciones. Primero hemos de crear una función que separe datos."
   ]
  },
  {
   "cell_type": "code",
   "execution_count": null,
   "metadata": {},
   "outputs": [],
   "source": [
    "import numpy as np\n",
    "from matplotlib import pyplot as plt\n",
    "from sklearn.datasets import make_blobs\n",
    "from sklearn.model_selection import train_test_split"
   ]
  },
  {
   "cell_type": "markdown",
   "metadata": {},
   "source": [
    "#### Separación de datos\n",
    "Esta función separa datos dependiendo de la etiqueta de valor esperado que tengan"
   ]
  },
  {
   "cell_type": "code",
   "execution_count": null,
   "metadata": {},
   "outputs": [],
   "source": [
    "def separarDatos(muestras, valoresEsperados, valorAFiltrar):\n",
    "    # Aquí va su código"
   ]
  },
  {
   "cell_type": "markdown",
   "metadata": {},
   "source": [
    "Prueba de la separación de datos"
   ]
  },
  {
   "cell_type": "code",
   "execution_count": null,
   "metadata": {},
   "outputs": [],
   "source": [
    "x, y = make_blobs(n_samples=1000, centers=3, n_features=2)\n",
    "plt.scatter(x[:,0], x[:,1], c=y)\n",
    "plt.show()\n",
    "\n",
    "muestrasCon1, valoresEsperadosCon1 = separarDatos(x,y,1)\n",
    "print(valoresEsperadosCon1)"
   ]
  },
  {
   "cell_type": "code",
   "execution_count": null,
   "metadata": {},
   "outputs": [],
   "source": [
    "import MLUtilities as utils\n",
    "from scipy import stats"
   ]
  },
  {
   "cell_type": "markdown",
   "metadata": {},
   "source": [
    "### Código para obtener moda"
   ]
  },
  {
   "cell_type": "code",
   "execution_count": null,
   "metadata": {},
   "outputs": [],
   "source": [
    "def obtenerModa(resultados):\n",
    "    moda = (stats.mode(resultados)[0]).reshape(-1)\n",
    "    return moda[0]"
   ]
  },
  {
   "cell_type": "markdown",
   "metadata": {},
   "source": [
    "### Código para obtener la accuracy de una muestra con K medias\n",
    "Este código primero extrae el numero de muestras, luego los resultados de clasificación, luego la moda y busca con np.where donde los resultados son diferentes a la moda, esos son los indices de errores.\n",
    "\n",
    "Luego entonces, la cantidad de errores es el tamaño de los resultados donde los indicesErrores apuntan.\n",
    "finalmente, la Accuracy la calculamos como:\n",
    "\n",
    "$accuracy = \\frac{numMuestras - cantidadErrores}{numMuestras} \\times 100 $"
   ]
  },
  {
   "cell_type": "code",
   "execution_count": null,
   "metadata": {},
   "outputs": [],
   "source": [
    "def obtenerAccuracy_kmedias(muestras, centroides):\n",
    "    # Aquí va su código."
   ]
  },
  {
   "cell_type": "markdown",
   "metadata": {},
   "source": [
    "#### Prueba de la función de obtener Accuracy\n",
    "Para ello, observa el scatter plot de arriba, y elige los centroides manualmente con \"centroidesDummy\".\n",
    "si pones el centroide dummy 1 y 2 muy cerca, la accuracy va a bajar considerablemente.\n",
    "si pones el centroide dummy 1 enmedio de una clase, y el centroide 2 muy lejos, la accuracy será de 100%"
   ]
  },
  {
   "cell_type": "code",
   "execution_count": null,
   "metadata": {},
   "outputs": [],
   "source": [
    "centroidesDummy = np.array([[-4,-9]       #Centroide dummy 1\n",
    "                            ,[-5,-10]])   #Centroide dummy 2\n",
    "accuracy = obtenerAccuracy_kmedias(muestrasCon1,centroidesDummy)\n",
    "print(accuracy)"
   ]
  },
  {
   "cell_type": "markdown",
   "metadata": {
    "collapsed": true
   },
   "source": [
    "Una vez terminado, añade tus funciones al archivo `MLUtilities`."
   ]
  },
  {
   "cell_type": "code",
   "execution_count": null,
   "metadata": {},
   "outputs": [],
   "source": []
  }
 ],
 "metadata": {
  "kernelspec": {
   "display_name": "Python 3",
   "language": "python",
   "name": "python3"
  },
  "language_info": {
   "codemirror_mode": {
    "name": "ipython",
    "version": 3
   },
   "file_extension": ".py",
   "mimetype": "text/x-python",
   "name": "python",
   "nbconvert_exporter": "python",
   "pygments_lexer": "ipython3",
   "version": "3.9.2"
  }
 },
 "nbformat": 4,
 "nbformat_minor": 2
}
