{
 "cells": [
  {
   "cell_type": "markdown",
   "metadata": {},
   "source": [
    "# Reto 02\n",
    "En este reto haremos K-fold de datos!\n",
    "si tienes un dataset para tu proyecto final, aprovecha para usarlo. En este caso utilizaremos 1000 blobs. \n",
    "\n",
    "*Nota: Si vas a hacer K-fold y usarlo en la vida real, no uses un random_seed.*"
   ]
  },
  {
   "cell_type": "code",
   "execution_count": 2,
   "metadata": {},
   "outputs": [],
   "source": [
    "import numpy as np\n",
    "from sklearn.datasets import make_blobs\n",
    "from sklearn.model_selection import KFold"
   ]
  },
  {
   "cell_type": "code",
   "execution_count": 5,
   "metadata": {},
   "outputs": [
    {
     "name": "stdout",
     "output_type": "stream",
     "text": [
      "Ciclo: 1\n",
      "Usaré (750, 2) datos para entrenar (entrada)\n",
      "Usaré (750,) datos para entrenar (salida)\n",
      "Usaré (250, 2) datos para probar (entrada)\n",
      "Usaré (250,) datos para probar (salida)\n",
      "Ciclo: 2\n",
      "Usaré (750, 2) datos para entrenar (entrada)\n",
      "Usaré (750,) datos para entrenar (salida)\n",
      "Usaré (250, 2) datos para probar (entrada)\n",
      "Usaré (250,) datos para probar (salida)\n",
      "Ciclo: 3\n",
      "Usaré (750, 2) datos para entrenar (entrada)\n",
      "Usaré (750,) datos para entrenar (salida)\n",
      "Usaré (250, 2) datos para probar (entrada)\n",
      "Usaré (250,) datos para probar (salida)\n",
      "Ciclo: 4\n",
      "Usaré (750, 2) datos para entrenar (entrada)\n",
      "Usaré (750,) datos para entrenar (salida)\n",
      "Usaré (250, 2) datos para probar (entrada)\n",
      "Usaré (250,) datos para probar (salida)\n"
     ]
    }
   ],
   "source": [
    "x, y = make_blobs(n_samples=1000, centers=2, n_features=2)\n",
    "\n",
    "K = 4\n",
    "random_seed = 48\n",
    "aleatorio = True\n",
    "\n",
    "kfold = KFold(K, aleatorio, random_seed,shuffle=True)\n",
    "ciclo = 1\n",
    "for indices_train, indices_test in kfold.split(x):\n",
    "    print(\"Ciclo: \"+str(ciclo))\n",
    "    \n",
    "    print(\"Usaré \"+str(x[indices_train].shape)+\" datos para entrenar (entrada)\")\n",
    "    print(\"Usaré \"+str(y[indices_train].shape)+\" datos para entrenar (salida)\")\n",
    "    \n",
    "    print(\"Usaré \"+str(x[indices_test].shape)+\" datos para probar (entrada)\")\n",
    "    print(\"Usaré \"+str(y[indices_test].shape)+\" datos para probar (salida)\")    \n",
    "    ciclo+=1"
   ]
  },
  {
   "cell_type": "code",
   "execution_count": null,
   "metadata": {
    "collapsed": true
   },
   "outputs": [],
   "source": []
  }
 ],
 "metadata": {
  "kernelspec": {
   "display_name": "Python 3",
   "language": "python",
   "name": "python3"
  },
  "language_info": {
   "codemirror_mode": {
    "name": "ipython",
    "version": 3
   },
   "file_extension": ".py",
   "mimetype": "text/x-python",
   "name": "python",
   "nbconvert_exporter": "python",
   "pygments_lexer": "ipython3",
   "version": "3.9.2"
  }
 },
 "nbformat": 4,
 "nbformat_minor": 2
}
